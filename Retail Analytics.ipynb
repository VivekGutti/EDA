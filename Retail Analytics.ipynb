{
 "cells": [
  {
   "cell_type": "markdown",
   "metadata": {},
   "source": [
    "#### Performing EDA and finding out the under performing dealers."
   ]
  },
  {
   "cell_type": "code",
   "execution_count": 1,
   "metadata": {},
   "outputs": [],
   "source": [
    "import numpy as np\n",
    "import pandas as pd\n",
    "import warnings\n",
    "warnings.filterwarnings(\"ignore\")"
   ]
  },
  {
   "cell_type": "code",
   "execution_count": 2,
   "metadata": {},
   "outputs": [],
   "source": [
    "retail_df = pd.read_csv(\"retail_data.csv\", encoding='latin-1')"
   ]
  },
  {
   "cell_type": "code",
   "execution_count": 3,
   "metadata": {},
   "outputs": [
    {
     "data": {
      "text/html": [
       "<div>\n",
       "<style scoped>\n",
       "    .dataframe tbody tr th:only-of-type {\n",
       "        vertical-align: middle;\n",
       "    }\n",
       "\n",
       "    .dataframe tbody tr th {\n",
       "        vertical-align: top;\n",
       "    }\n",
       "\n",
       "    .dataframe thead th {\n",
       "        text-align: right;\n",
       "    }\n",
       "</style>\n",
       "<table border=\"1\" class=\"dataframe\">\n",
       "  <thead>\n",
       "    <tr style=\"text-align: right;\">\n",
       "      <th></th>\n",
       "      <th>Month</th>\n",
       "      <th>Enquiry Date</th>\n",
       "      <th>Enquiry Id</th>\n",
       "      <th>Allocation Status</th>\n",
       "      <th>Status</th>\n",
       "      <th>State</th>\n",
       "      <th>City</th>\n",
       "      <th>Pincode</th>\n",
       "      <th>Type of Project</th>\n",
       "      <th>No of Windows</th>\n",
       "      <th>...</th>\n",
       "      <th>Second Action-Call Status.1</th>\n",
       "      <th>Remarks</th>\n",
       "      <th>Price Per Sft</th>\n",
       "      <th>Benefits</th>\n",
       "      <th>Aesthetics</th>\n",
       "      <th>Reduce Street Noise</th>\n",
       "      <th>Low Maintenance</th>\n",
       "      <th>Monsoon Proof</th>\n",
       "      <th>Better Lighting</th>\n",
       "      <th>Reduce AC Energy Cost</th>\n",
       "    </tr>\n",
       "  </thead>\n",
       "  <tbody>\n",
       "    <tr>\n",
       "      <th>0</th>\n",
       "      <td>April'16</td>\n",
       "      <td>02-Apr-16</td>\n",
       "      <td>EC02041646800</td>\n",
       "      <td>Dealer</td>\n",
       "      <td>Won</td>\n",
       "      <td>TAMILNADU</td>\n",
       "      <td>CHENNAI</td>\n",
       "      <td>600008</td>\n",
       "      <td>Renovation</td>\n",
       "      <td>6 to 10</td>\n",
       "      <td>...</td>\n",
       "      <td>NaN</td>\n",
       "      <td>NaN</td>\n",
       "      <td>1105</td>\n",
       "      <td>Aesthetics &amp; Street Noise</td>\n",
       "      <td>1.0</td>\n",
       "      <td>1.0</td>\n",
       "      <td>0.0</td>\n",
       "      <td>0.0</td>\n",
       "      <td>0.0</td>\n",
       "      <td>0.0</td>\n",
       "    </tr>\n",
       "    <tr>\n",
       "      <th>1</th>\n",
       "      <td>April'16</td>\n",
       "      <td>08-Apr-16</td>\n",
       "      <td>EC08041647157</td>\n",
       "      <td>Dealer</td>\n",
       "      <td>Lost</td>\n",
       "      <td>TAMILNADU</td>\n",
       "      <td>CHENNAI</td>\n",
       "      <td>600042</td>\n",
       "      <td>New Construction</td>\n",
       "      <td>6 to 10</td>\n",
       "      <td>...</td>\n",
       "      <td>NaN</td>\n",
       "      <td>Price Issue</td>\n",
       "      <td>985</td>\n",
       "      <td>NaN</td>\n",
       "      <td>NaN</td>\n",
       "      <td>NaN</td>\n",
       "      <td>NaN</td>\n",
       "      <td>NaN</td>\n",
       "      <td>NaN</td>\n",
       "      <td>NaN</td>\n",
       "    </tr>\n",
       "    <tr>\n",
       "      <th>2</th>\n",
       "      <td>April'16</td>\n",
       "      <td>08-Apr-16</td>\n",
       "      <td>EC08041647130</td>\n",
       "      <td>Dealer</td>\n",
       "      <td>Lost</td>\n",
       "      <td>TAMILNADU</td>\n",
       "      <td>CHENNAI</td>\n",
       "      <td>600015</td>\n",
       "      <td>New Construction</td>\n",
       "      <td>1 to 5</td>\n",
       "      <td>...</td>\n",
       "      <td>NaN</td>\n",
       "      <td>Delivery Issue</td>\n",
       "      <td>918</td>\n",
       "      <td>NaN</td>\n",
       "      <td>NaN</td>\n",
       "      <td>NaN</td>\n",
       "      <td>NaN</td>\n",
       "      <td>NaN</td>\n",
       "      <td>NaN</td>\n",
       "      <td>NaN</td>\n",
       "    </tr>\n",
       "    <tr>\n",
       "      <th>3</th>\n",
       "      <td>April'16</td>\n",
       "      <td>09-Apr-16</td>\n",
       "      <td>EC09041647202</td>\n",
       "      <td>Direct</td>\n",
       "      <td>Lost</td>\n",
       "      <td>TAMILNADU</td>\n",
       "      <td>KANCHIPURAM</td>\n",
       "      <td>600075</td>\n",
       "      <td>New Construction</td>\n",
       "      <td>21 to 40</td>\n",
       "      <td>...</td>\n",
       "      <td>NaN</td>\n",
       "      <td>Price Issue</td>\n",
       "      <td>919</td>\n",
       "      <td>NaN</td>\n",
       "      <td>NaN</td>\n",
       "      <td>NaN</td>\n",
       "      <td>NaN</td>\n",
       "      <td>NaN</td>\n",
       "      <td>NaN</td>\n",
       "      <td>NaN</td>\n",
       "    </tr>\n",
       "    <tr>\n",
       "      <th>4</th>\n",
       "      <td>April'16</td>\n",
       "      <td>11-Apr-16</td>\n",
       "      <td>EC11041647360</td>\n",
       "      <td>Direct</td>\n",
       "      <td>Won</td>\n",
       "      <td>TAMILNADU</td>\n",
       "      <td>CHENNAI</td>\n",
       "      <td>600041</td>\n",
       "      <td>Renovation</td>\n",
       "      <td>6 to 10</td>\n",
       "      <td>...</td>\n",
       "      <td>NaN</td>\n",
       "      <td>NaN</td>\n",
       "      <td>1350</td>\n",
       "      <td>Reduce AC Energy Cost</td>\n",
       "      <td>0.0</td>\n",
       "      <td>0.0</td>\n",
       "      <td>0.0</td>\n",
       "      <td>0.0</td>\n",
       "      <td>0.0</td>\n",
       "      <td>1.0</td>\n",
       "    </tr>\n",
       "  </tbody>\n",
       "</table>\n",
       "<p>5 rows × 40 columns</p>\n",
       "</div>"
      ],
      "text/plain": [
       "      Month Enquiry Date      Enquiry Id Allocation Status Status      State  \\\n",
       "0  April'16    02-Apr-16   EC02041646800            Dealer    Won  TAMILNADU   \n",
       "1  April'16    08-Apr-16   EC08041647157            Dealer   Lost  TAMILNADU   \n",
       "2  April'16    08-Apr-16   EC08041647130            Dealer   Lost  TAMILNADU   \n",
       "3  April'16    09-Apr-16   EC09041647202            Direct   Lost  TAMILNADU   \n",
       "4  April'16    11-Apr-16   EC11041647360            Direct    Won  TAMILNADU   \n",
       "\n",
       "          City  Pincode   Type of Project No of Windows  ...  \\\n",
       "0      CHENNAI   600008        Renovation       6 to 10  ...   \n",
       "1      CHENNAI   600042  New Construction       6 to 10  ...   \n",
       "2      CHENNAI   600015  New Construction        1 to 5  ...   \n",
       "3  KANCHIPURAM   600075  New Construction      21 to 40  ...   \n",
       "4      CHENNAI   600041        Renovation       6 to 10  ...   \n",
       "\n",
       "  Second Action-Call Status.1         Remarks Price Per Sft  \\\n",
       "0                         NaN             NaN          1105   \n",
       "1                         NaN     Price Issue           985   \n",
       "2                         NaN  Delivery Issue           918   \n",
       "3                         NaN     Price Issue           919   \n",
       "4                         NaN             NaN          1350   \n",
       "\n",
       "                    Benefits Aesthetics Reduce Street Noise Low Maintenance  \\\n",
       "0  Aesthetics & Street Noise        1.0                 1.0             0.0   \n",
       "1                        NaN        NaN                 NaN             NaN   \n",
       "2                        NaN        NaN                 NaN             NaN   \n",
       "3                        NaN        NaN                 NaN             NaN   \n",
       "4      Reduce AC Energy Cost        0.0                 0.0             0.0   \n",
       "\n",
       "  Monsoon Proof Better Lighting Reduce AC Energy Cost  \n",
       "0           0.0             0.0                   0.0  \n",
       "1           NaN             NaN                   NaN  \n",
       "2           NaN             NaN                   NaN  \n",
       "3           NaN             NaN                   NaN  \n",
       "4           0.0             0.0                   1.0  \n",
       "\n",
       "[5 rows x 40 columns]"
      ]
     },
     "execution_count": 3,
     "metadata": {},
     "output_type": "execute_result"
    }
   ],
   "source": [
    "retail_df.head()"
   ]
  },
  {
   "cell_type": "markdown",
   "metadata": {},
   "source": [
    "#### looking at size of data"
   ]
  },
  {
   "cell_type": "code",
   "execution_count": 4,
   "metadata": {},
   "outputs": [
    {
     "data": {
      "text/plain": [
       "(229, 40)"
      ]
     },
     "execution_count": 4,
     "metadata": {},
     "output_type": "execute_result"
    }
   ],
   "source": [
    "retail_df.shape"
   ]
  },
  {
   "cell_type": "markdown",
   "metadata": {},
   "source": [
    "#### looking at statistical details of data"
   ]
  },
  {
   "cell_type": "code",
   "execution_count": 5,
   "metadata": {},
   "outputs": [
    {
     "data": {
      "text/html": [
       "<div>\n",
       "<style scoped>\n",
       "    .dataframe tbody tr th:only-of-type {\n",
       "        vertical-align: middle;\n",
       "    }\n",
       "\n",
       "    .dataframe tbody tr th {\n",
       "        vertical-align: top;\n",
       "    }\n",
       "\n",
       "    .dataframe thead th {\n",
       "        text-align: right;\n",
       "    }\n",
       "</style>\n",
       "<table border=\"1\" class=\"dataframe\">\n",
       "  <thead>\n",
       "    <tr style=\"text-align: right;\">\n",
       "      <th></th>\n",
       "      <th>Pincode</th>\n",
       "      <th>Q Val. (Rs. Lac)</th>\n",
       "      <th>Order Val. (Rs. Lac)</th>\n",
       "      <th>Order QTY</th>\n",
       "      <th>Second Action-Call Status.1</th>\n",
       "      <th>Price Per Sft</th>\n",
       "      <th>Aesthetics</th>\n",
       "      <th>Reduce Street Noise</th>\n",
       "      <th>Low Maintenance</th>\n",
       "      <th>Monsoon Proof</th>\n",
       "      <th>Better Lighting</th>\n",
       "      <th>Reduce AC Energy Cost</th>\n",
       "    </tr>\n",
       "  </thead>\n",
       "  <tbody>\n",
       "    <tr>\n",
       "      <th>count</th>\n",
       "      <td>229.000000</td>\n",
       "      <td>183.000000</td>\n",
       "      <td>48.000000</td>\n",
       "      <td>48.000000</td>\n",
       "      <td>0.0</td>\n",
       "      <td>229.000000</td>\n",
       "      <td>37.000000</td>\n",
       "      <td>37.000000</td>\n",
       "      <td>37.000000</td>\n",
       "      <td>37.000000</td>\n",
       "      <td>37.000000</td>\n",
       "      <td>37.000000</td>\n",
       "    </tr>\n",
       "    <tr>\n",
       "      <th>mean</th>\n",
       "      <td>601742.572052</td>\n",
       "      <td>1.842459</td>\n",
       "      <td>1.874375</td>\n",
       "      <td>10.229167</td>\n",
       "      <td>NaN</td>\n",
       "      <td>1045.323144</td>\n",
       "      <td>0.243243</td>\n",
       "      <td>0.648649</td>\n",
       "      <td>0.486486</td>\n",
       "      <td>0.081081</td>\n",
       "      <td>0.027027</td>\n",
       "      <td>0.162162</td>\n",
       "    </tr>\n",
       "    <tr>\n",
       "      <th>std</th>\n",
       "      <td>6573.378113</td>\n",
       "      <td>2.595590</td>\n",
       "      <td>2.313372</td>\n",
       "      <td>14.925688</td>\n",
       "      <td>NaN</td>\n",
       "      <td>220.032076</td>\n",
       "      <td>0.434959</td>\n",
       "      <td>0.483978</td>\n",
       "      <td>0.506712</td>\n",
       "      <td>0.276725</td>\n",
       "      <td>0.164399</td>\n",
       "      <td>0.373684</td>\n",
       "    </tr>\n",
       "    <tr>\n",
       "      <th>min</th>\n",
       "      <td>600001.000000</td>\n",
       "      <td>0.010000</td>\n",
       "      <td>0.070000</td>\n",
       "      <td>1.000000</td>\n",
       "      <td>NaN</td>\n",
       "      <td>650.000000</td>\n",
       "      <td>0.000000</td>\n",
       "      <td>0.000000</td>\n",
       "      <td>0.000000</td>\n",
       "      <td>0.000000</td>\n",
       "      <td>0.000000</td>\n",
       "      <td>0.000000</td>\n",
       "    </tr>\n",
       "    <tr>\n",
       "      <th>25%</th>\n",
       "      <td>600033.000000</td>\n",
       "      <td>0.550000</td>\n",
       "      <td>0.530000</td>\n",
       "      <td>2.000000</td>\n",
       "      <td>NaN</td>\n",
       "      <td>921.000000</td>\n",
       "      <td>0.000000</td>\n",
       "      <td>0.000000</td>\n",
       "      <td>0.000000</td>\n",
       "      <td>0.000000</td>\n",
       "      <td>0.000000</td>\n",
       "      <td>0.000000</td>\n",
       "    </tr>\n",
       "    <tr>\n",
       "      <th>50%</th>\n",
       "      <td>600059.000000</td>\n",
       "      <td>1.070000</td>\n",
       "      <td>1.150000</td>\n",
       "      <td>6.000000</td>\n",
       "      <td>NaN</td>\n",
       "      <td>1030.000000</td>\n",
       "      <td>0.000000</td>\n",
       "      <td>1.000000</td>\n",
       "      <td>0.000000</td>\n",
       "      <td>0.000000</td>\n",
       "      <td>0.000000</td>\n",
       "      <td>0.000000</td>\n",
       "    </tr>\n",
       "    <tr>\n",
       "      <th>75%</th>\n",
       "      <td>600099.000000</td>\n",
       "      <td>2.000000</td>\n",
       "      <td>1.622500</td>\n",
       "      <td>10.500000</td>\n",
       "      <td>NaN</td>\n",
       "      <td>1129.000000</td>\n",
       "      <td>0.000000</td>\n",
       "      <td>1.000000</td>\n",
       "      <td>1.000000</td>\n",
       "      <td>0.000000</td>\n",
       "      <td>0.000000</td>\n",
       "      <td>0.000000</td>\n",
       "    </tr>\n",
       "    <tr>\n",
       "      <th>max</th>\n",
       "      <td>635810.000000</td>\n",
       "      <td>25.000000</td>\n",
       "      <td>10.950000</td>\n",
       "      <td>73.000000</td>\n",
       "      <td>NaN</td>\n",
       "      <td>3121.000000</td>\n",
       "      <td>1.000000</td>\n",
       "      <td>1.000000</td>\n",
       "      <td>1.000000</td>\n",
       "      <td>1.000000</td>\n",
       "      <td>1.000000</td>\n",
       "      <td>1.000000</td>\n",
       "    </tr>\n",
       "  </tbody>\n",
       "</table>\n",
       "</div>"
      ],
      "text/plain": [
       "             Pincode  Q Val. (Rs. Lac)  Order Val. (Rs. Lac)  Order QTY  \\\n",
       "count     229.000000        183.000000             48.000000  48.000000   \n",
       "mean   601742.572052          1.842459              1.874375  10.229167   \n",
       "std      6573.378113          2.595590              2.313372  14.925688   \n",
       "min    600001.000000          0.010000              0.070000   1.000000   \n",
       "25%    600033.000000          0.550000              0.530000   2.000000   \n",
       "50%    600059.000000          1.070000              1.150000   6.000000   \n",
       "75%    600099.000000          2.000000              1.622500  10.500000   \n",
       "max    635810.000000         25.000000             10.950000  73.000000   \n",
       "\n",
       "       Second Action-Call Status.1  Price Per Sft  Aesthetics  \\\n",
       "count                          0.0     229.000000   37.000000   \n",
       "mean                           NaN    1045.323144    0.243243   \n",
       "std                            NaN     220.032076    0.434959   \n",
       "min                            NaN     650.000000    0.000000   \n",
       "25%                            NaN     921.000000    0.000000   \n",
       "50%                            NaN    1030.000000    0.000000   \n",
       "75%                            NaN    1129.000000    0.000000   \n",
       "max                            NaN    3121.000000    1.000000   \n",
       "\n",
       "       Reduce Street Noise  Low Maintenance  Monsoon Proof  Better Lighting  \\\n",
       "count            37.000000        37.000000      37.000000        37.000000   \n",
       "mean              0.648649         0.486486       0.081081         0.027027   \n",
       "std               0.483978         0.506712       0.276725         0.164399   \n",
       "min               0.000000         0.000000       0.000000         0.000000   \n",
       "25%               0.000000         0.000000       0.000000         0.000000   \n",
       "50%               1.000000         0.000000       0.000000         0.000000   \n",
       "75%               1.000000         1.000000       0.000000         0.000000   \n",
       "max               1.000000         1.000000       1.000000         1.000000   \n",
       "\n",
       "       Reduce AC Energy Cost  \n",
       "count              37.000000  \n",
       "mean                0.162162  \n",
       "std                 0.373684  \n",
       "min                 0.000000  \n",
       "25%                 0.000000  \n",
       "50%                 0.000000  \n",
       "75%                 0.000000  \n",
       "max                 1.000000  "
      ]
     },
     "execution_count": 5,
     "metadata": {},
     "output_type": "execute_result"
    }
   ],
   "source": [
    "retail_df.describe()"
   ]
  },
  {
   "cell_type": "markdown",
   "metadata": {},
   "source": [
    "#### looking at all the columns"
   ]
  },
  {
   "cell_type": "code",
   "execution_count": 6,
   "metadata": {},
   "outputs": [
    {
     "data": {
      "text/plain": [
       "Index(['Month', 'Enquiry Date', 'Enquiry Id', 'Allocation Status', 'Status',\n",
       "       'State', 'City', 'Pincode', 'Type of Project', 'No of Windows',\n",
       "       'Source', 'Zone', 'Dealer Name', 'First Action-Call made',\n",
       "       'Date DD/MM/YY', 'First Action-Call Status',\n",
       "       'Date of Appointment (DD/MM/YY)', 'Second Action-Customer Meeting',\n",
       "       'Date DD/MM/YY.1', 'Second Action-Call Status',\n",
       "       'Third Action-Quote Given', 'Date DD/MM/YY.2', 'Q Val. (Rs. Lac)',\n",
       "       'Quote QTY', ' Order Recd\\Lost ', 'Date DD/MM/YY.3',\n",
       "       'Order Val. (Rs. Lac)', 'Order QTY',\n",
       "       'Quote ID (as per match to CCC Records)',\n",
       "       ' Remarks-Brand and value if lost to UPVC ',\n",
       "       'Second Action-Call Status.1', 'Remarks', 'Price Per Sft', 'Benefits',\n",
       "       'Aesthetics', 'Reduce Street Noise', 'Low Maintenance', 'Monsoon Proof',\n",
       "       'Better Lighting', 'Reduce AC Energy Cost'],\n",
       "      dtype='object')"
      ]
     },
     "execution_count": 6,
     "metadata": {},
     "output_type": "execute_result"
    }
   ],
   "source": [
    "retail_df.columns"
   ]
  },
  {
   "cell_type": "markdown",
   "metadata": {},
   "source": [
    "#### Checking the variable type"
   ]
  },
  {
   "cell_type": "code",
   "execution_count": 7,
   "metadata": {},
   "outputs": [
    {
     "name": "stdout",
     "output_type": "stream",
     "text": [
      "<class 'pandas.core.frame.DataFrame'>\n",
      "RangeIndex: 229 entries, 0 to 228\n",
      "Data columns (total 40 columns):\n",
      "Month                                        229 non-null object\n",
      "Enquiry Date                                 229 non-null object\n",
      "Enquiry Id                                   229 non-null object\n",
      "Allocation Status                            229 non-null object\n",
      "Status                                       229 non-null object\n",
      "State                                        229 non-null object\n",
      "City                                         229 non-null object\n",
      "Pincode                                      229 non-null int64\n",
      "Type of Project                              229 non-null object\n",
      "No of Windows                                229 non-null object\n",
      "Source                                       229 non-null object\n",
      "Zone                                         229 non-null object\n",
      "Dealer Name                                  229 non-null object\n",
      "First Action-Call made                       229 non-null object\n",
      "Date DD/MM/YY                                229 non-null object\n",
      "First Action-Call Status                     229 non-null object\n",
      "Date of Appointment (DD/MM/YY)               192 non-null object\n",
      "Second Action-Customer Meeting               192 non-null object\n",
      "Date DD/MM/YY.1                              192 non-null object\n",
      "Second Action-Call Status                    191 non-null object\n",
      "Third Action-Quote Given                     189 non-null object\n",
      "Date DD/MM/YY.2                              188 non-null object\n",
      "Q Val. (Rs. Lac)                             183 non-null float64\n",
      "Quote QTY                                    183 non-null object\n",
      " Order Recd\\Lost                             229 non-null object\n",
      "Date DD/MM/YY.3                              48 non-null object\n",
      "Order Val. (Rs. Lac)                         48 non-null float64\n",
      "Order QTY                                    48 non-null float64\n",
      "Quote ID (as per match to CCC Records)       116 non-null object\n",
      " Remarks-Brand and value if lost to UPVC     123 non-null object\n",
      "Second Action-Call Status.1                  0 non-null float64\n",
      "Remarks                                      171 non-null object\n",
      "Price Per Sft                                229 non-null int64\n",
      "Benefits                                     53 non-null object\n",
      "Aesthetics                                   37 non-null float64\n",
      "Reduce Street Noise                          37 non-null float64\n",
      "Low Maintenance                              37 non-null float64\n",
      "Monsoon Proof                                37 non-null float64\n",
      "Better Lighting                              37 non-null float64\n",
      "Reduce AC Energy Cost                        37 non-null float64\n",
      "dtypes: float64(10), int64(2), object(28)\n",
      "memory usage: 71.6+ KB\n"
     ]
    }
   ],
   "source": [
    "retail_df.info()"
   ]
  },
  {
   "cell_type": "markdown",
   "metadata": {},
   "source": [
    "There are 28 categorical variables and 12 numerical variables."
   ]
  },
  {
   "cell_type": "markdown",
   "metadata": {},
   "source": [
    "#### Checking for null values"
   ]
  },
  {
   "cell_type": "code",
   "execution_count": 8,
   "metadata": {},
   "outputs": [
    {
     "data": {
      "text/html": [
       "<div>\n",
       "<style scoped>\n",
       "    .dataframe tbody tr th:only-of-type {\n",
       "        vertical-align: middle;\n",
       "    }\n",
       "\n",
       "    .dataframe tbody tr th {\n",
       "        vertical-align: top;\n",
       "    }\n",
       "\n",
       "    .dataframe thead th {\n",
       "        text-align: right;\n",
       "    }\n",
       "</style>\n",
       "<table border=\"1\" class=\"dataframe\">\n",
       "  <thead>\n",
       "    <tr style=\"text-align: right;\">\n",
       "      <th></th>\n",
       "      <th>Month</th>\n",
       "      <th>Enquiry Date</th>\n",
       "      <th>Enquiry Id</th>\n",
       "      <th>Allocation Status</th>\n",
       "      <th>Status</th>\n",
       "      <th>State</th>\n",
       "      <th>City</th>\n",
       "      <th>Pincode</th>\n",
       "      <th>Type of Project</th>\n",
       "      <th>No of Windows</th>\n",
       "      <th>...</th>\n",
       "      <th>Second Action-Call Status.1</th>\n",
       "      <th>Remarks</th>\n",
       "      <th>Price Per Sft</th>\n",
       "      <th>Benefits</th>\n",
       "      <th>Aesthetics</th>\n",
       "      <th>Reduce Street Noise</th>\n",
       "      <th>Low Maintenance</th>\n",
       "      <th>Monsoon Proof</th>\n",
       "      <th>Better Lighting</th>\n",
       "      <th>Reduce AC Energy Cost</th>\n",
       "    </tr>\n",
       "  </thead>\n",
       "  <tbody>\n",
       "    <tr>\n",
       "      <th>False</th>\n",
       "      <td>229.0</td>\n",
       "      <td>229.0</td>\n",
       "      <td>229.0</td>\n",
       "      <td>229.0</td>\n",
       "      <td>229.0</td>\n",
       "      <td>229.0</td>\n",
       "      <td>229.0</td>\n",
       "      <td>229.0</td>\n",
       "      <td>229.0</td>\n",
       "      <td>229.0</td>\n",
       "      <td>...</td>\n",
       "      <td>NaN</td>\n",
       "      <td>171</td>\n",
       "      <td>229.0</td>\n",
       "      <td>53</td>\n",
       "      <td>37</td>\n",
       "      <td>37</td>\n",
       "      <td>37</td>\n",
       "      <td>37</td>\n",
       "      <td>37</td>\n",
       "      <td>37</td>\n",
       "    </tr>\n",
       "    <tr>\n",
       "      <th>True</th>\n",
       "      <td>NaN</td>\n",
       "      <td>NaN</td>\n",
       "      <td>NaN</td>\n",
       "      <td>NaN</td>\n",
       "      <td>NaN</td>\n",
       "      <td>NaN</td>\n",
       "      <td>NaN</td>\n",
       "      <td>NaN</td>\n",
       "      <td>NaN</td>\n",
       "      <td>NaN</td>\n",
       "      <td>...</td>\n",
       "      <td>229.0</td>\n",
       "      <td>58</td>\n",
       "      <td>NaN</td>\n",
       "      <td>176</td>\n",
       "      <td>192</td>\n",
       "      <td>192</td>\n",
       "      <td>192</td>\n",
       "      <td>192</td>\n",
       "      <td>192</td>\n",
       "      <td>192</td>\n",
       "    </tr>\n",
       "  </tbody>\n",
       "</table>\n",
       "<p>2 rows × 40 columns</p>\n",
       "</div>"
      ],
      "text/plain": [
       "       Month  Enquiry Date  Enquiry Id  Allocation Status  Status  State  \\\n",
       "False  229.0         229.0       229.0              229.0   229.0  229.0   \n",
       "True     NaN           NaN         NaN                NaN     NaN    NaN   \n",
       "\n",
       "        City  Pincode  Type of Project  No of Windows  ...  \\\n",
       "False  229.0    229.0            229.0          229.0  ...   \n",
       "True     NaN      NaN              NaN            NaN  ...   \n",
       "\n",
       "       Second Action-Call Status.1  Remarks  Price Per Sft  Benefits  \\\n",
       "False                          NaN      171          229.0        53   \n",
       "True                         229.0       58            NaN       176   \n",
       "\n",
       "       Aesthetics  Reduce Street Noise  Low Maintenance  Monsoon Proof  \\\n",
       "False          37                   37               37             37   \n",
       "True          192                  192              192            192   \n",
       "\n",
       "       Better Lighting  Reduce AC Energy Cost  \n",
       "False               37                     37  \n",
       "True               192                    192  \n",
       "\n",
       "[2 rows x 40 columns]"
      ]
     },
     "execution_count": 8,
     "metadata": {},
     "output_type": "execute_result"
    }
   ],
   "source": [
    "retail_df.isnull().apply(pd.value_counts)"
   ]
  },
  {
   "cell_type": "code",
   "execution_count": 62,
   "metadata": {},
   "outputs": [
    {
     "data": {
      "text/plain": [
       "Month                                          0\n",
       "Enquiry Date                                   0\n",
       "Enquiry Id                                     0\n",
       "Allocation Status                              0\n",
       "Status                                         0\n",
       "State                                          0\n",
       "City                                           0\n",
       "Pincode                                        0\n",
       "Type of Project                                0\n",
       "No of Windows                                  0\n",
       "Source                                         0\n",
       "Zone                                           0\n",
       "Dealer Name                                    0\n",
       "First Action-Call made                         0\n",
       "Date DD/MM/YY                                  0\n",
       "First Action-Call Status                       0\n",
       "Date of Appointment (DD/MM/YY)                37\n",
       "Second Action-Customer Meeting                37\n",
       "Date DD/MM/YY.1                               37\n",
       "Second Action-Call Status                     38\n",
       "Third Action-Quote Given                      40\n",
       "Date DD/MM/YY.2                               41\n",
       "Q Val. (Rs. Lac)                              46\n",
       "Quote QTY                                     46\n",
       " Order Recd\\Lost                               0\n",
       "Date DD/MM/YY.3                              181\n",
       "Order Val. (Rs. Lac)                         181\n",
       "Order QTY                                    181\n",
       "Quote ID (as per match to CCC Records)       113\n",
       " Remarks-Brand and value if lost to UPVC     106\n",
       "Second Action-Call Status.1                  229\n",
       "Remarks                                       58\n",
       "Price Per Sft                                  0\n",
       "Benefits                                     176\n",
       "Aesthetics                                   192\n",
       "Reduce Street Noise                          192\n",
       "Low Maintenance                              192\n",
       "Monsoon Proof                                192\n",
       "Better Lighting                              192\n",
       "Reduce AC Energy Cost                        192\n",
       "dtype: int64"
      ]
     },
     "execution_count": 62,
     "metadata": {},
     "output_type": "execute_result"
    }
   ],
   "source": [
    "retail_df.isnull().sum()"
   ]
  },
  {
   "cell_type": "markdown",
   "metadata": {},
   "source": [
    "#### null values percentage in data"
   ]
  },
  {
   "cell_type": "code",
   "execution_count": 9,
   "metadata": {},
   "outputs": [
    {
     "data": {
      "text/html": [
       "<div>\n",
       "<style scoped>\n",
       "    .dataframe tbody tr th:only-of-type {\n",
       "        vertical-align: middle;\n",
       "    }\n",
       "\n",
       "    .dataframe tbody tr th {\n",
       "        vertical-align: top;\n",
       "    }\n",
       "\n",
       "    .dataframe thead th {\n",
       "        text-align: right;\n",
       "    }\n",
       "</style>\n",
       "<table border=\"1\" class=\"dataframe\">\n",
       "  <thead>\n",
       "    <tr style=\"text-align: right;\">\n",
       "      <th></th>\n",
       "      <th>Month</th>\n",
       "      <th>Enquiry Date</th>\n",
       "      <th>Enquiry Id</th>\n",
       "      <th>Allocation Status</th>\n",
       "      <th>Status</th>\n",
       "      <th>State</th>\n",
       "      <th>City</th>\n",
       "      <th>Pincode</th>\n",
       "      <th>Type of Project</th>\n",
       "      <th>No of Windows</th>\n",
       "      <th>...</th>\n",
       "      <th>Second Action-Call Status.1</th>\n",
       "      <th>Remarks</th>\n",
       "      <th>Price Per Sft</th>\n",
       "      <th>Benefits</th>\n",
       "      <th>Aesthetics</th>\n",
       "      <th>Reduce Street Noise</th>\n",
       "      <th>Low Maintenance</th>\n",
       "      <th>Monsoon Proof</th>\n",
       "      <th>Better Lighting</th>\n",
       "      <th>Reduce AC Energy Cost</th>\n",
       "    </tr>\n",
       "  </thead>\n",
       "  <tbody>\n",
       "    <tr>\n",
       "      <th>False</th>\n",
       "      <td>100.0</td>\n",
       "      <td>100.0</td>\n",
       "      <td>100.0</td>\n",
       "      <td>100.0</td>\n",
       "      <td>100.0</td>\n",
       "      <td>100.0</td>\n",
       "      <td>100.0</td>\n",
       "      <td>100.0</td>\n",
       "      <td>100.0</td>\n",
       "      <td>100.0</td>\n",
       "      <td>...</td>\n",
       "      <td>NaN</td>\n",
       "      <td>74.672489</td>\n",
       "      <td>100.0</td>\n",
       "      <td>23.144105</td>\n",
       "      <td>16.157205</td>\n",
       "      <td>16.157205</td>\n",
       "      <td>16.157205</td>\n",
       "      <td>16.157205</td>\n",
       "      <td>16.157205</td>\n",
       "      <td>16.157205</td>\n",
       "    </tr>\n",
       "    <tr>\n",
       "      <th>True</th>\n",
       "      <td>NaN</td>\n",
       "      <td>NaN</td>\n",
       "      <td>NaN</td>\n",
       "      <td>NaN</td>\n",
       "      <td>NaN</td>\n",
       "      <td>NaN</td>\n",
       "      <td>NaN</td>\n",
       "      <td>NaN</td>\n",
       "      <td>NaN</td>\n",
       "      <td>NaN</td>\n",
       "      <td>...</td>\n",
       "      <td>100.0</td>\n",
       "      <td>25.327511</td>\n",
       "      <td>NaN</td>\n",
       "      <td>76.855895</td>\n",
       "      <td>83.842795</td>\n",
       "      <td>83.842795</td>\n",
       "      <td>83.842795</td>\n",
       "      <td>83.842795</td>\n",
       "      <td>83.842795</td>\n",
       "      <td>83.842795</td>\n",
       "    </tr>\n",
       "  </tbody>\n",
       "</table>\n",
       "<p>2 rows × 40 columns</p>\n",
       "</div>"
      ],
      "text/plain": [
       "       Month  Enquiry Date  Enquiry Id  Allocation Status  Status  State  \\\n",
       "False  100.0         100.0       100.0              100.0   100.0  100.0   \n",
       "True     NaN           NaN         NaN                NaN     NaN    NaN   \n",
       "\n",
       "        City  Pincode  Type of Project  No of Windows  ...  \\\n",
       "False  100.0    100.0            100.0          100.0  ...   \n",
       "True     NaN      NaN              NaN            NaN  ...   \n",
       "\n",
       "       Second Action-Call Status.1    Remarks  Price Per Sft   Benefits  \\\n",
       "False                          NaN  74.672489          100.0  23.144105   \n",
       "True                         100.0  25.327511            NaN  76.855895   \n",
       "\n",
       "       Aesthetics  Reduce Street Noise  Low Maintenance  Monsoon Proof  \\\n",
       "False   16.157205            16.157205        16.157205      16.157205   \n",
       "True    83.842795            83.842795        83.842795      83.842795   \n",
       "\n",
       "       Better Lighting  Reduce AC Energy Cost  \n",
       "False        16.157205              16.157205  \n",
       "True         83.842795              83.842795  \n",
       "\n",
       "[2 rows x 40 columns]"
      ]
     },
     "execution_count": 9,
     "metadata": {},
     "output_type": "execute_result"
    }
   ],
   "source": [
    "(retail_df.isnull().apply(pd.value_counts)/len(retail_df))*100"
   ]
  },
  {
   "cell_type": "code",
   "execution_count": 10,
   "metadata": {},
   "outputs": [
    {
     "data": {
      "text/plain": [
       "Month                                          0.000000\n",
       "Enquiry Date                                   0.000000\n",
       "Enquiry Id                                     0.000000\n",
       "Allocation Status                              0.000000\n",
       "Status                                         0.000000\n",
       "State                                          0.000000\n",
       "City                                           0.000000\n",
       "Pincode                                        0.000000\n",
       "Type of Project                                0.000000\n",
       "No of Windows                                  0.000000\n",
       "Source                                         0.000000\n",
       "Zone                                           0.000000\n",
       "Dealer Name                                    0.000000\n",
       "First Action-Call made                         0.000000\n",
       "Date DD/MM/YY                                  0.000000\n",
       "First Action-Call Status                       0.000000\n",
       "Date of Appointment (DD/MM/YY)                16.157205\n",
       "Second Action-Customer Meeting                16.157205\n",
       "Date DD/MM/YY.1                               16.157205\n",
       "Second Action-Call Status                     16.593886\n",
       "Third Action-Quote Given                      17.467249\n",
       "Date DD/MM/YY.2                               17.903930\n",
       "Q Val. (Rs. Lac)                              20.087336\n",
       "Quote QTY                                     20.087336\n",
       " Order Recd\\Lost                               0.000000\n",
       "Date DD/MM/YY.3                               79.039301\n",
       "Order Val. (Rs. Lac)                          79.039301\n",
       "Order QTY                                     79.039301\n",
       "Quote ID (as per match to CCC Records)        49.344978\n",
       " Remarks-Brand and value if lost to UPVC      46.288210\n",
       "Second Action-Call Status.1                  100.000000\n",
       "Remarks                                       25.327511\n",
       "Price Per Sft                                  0.000000\n",
       "Benefits                                      76.855895\n",
       "Aesthetics                                    83.842795\n",
       "Reduce Street Noise                           83.842795\n",
       "Low Maintenance                               83.842795\n",
       "Monsoon Proof                                 83.842795\n",
       "Better Lighting                               83.842795\n",
       "Reduce AC Energy Cost                         83.842795\n",
       "dtype: float64"
      ]
     },
     "execution_count": 10,
     "metadata": {},
     "output_type": "execute_result"
    }
   ],
   "source": [
    "(retail_df.isnull().sum()/len(retail_df))*100"
   ]
  },
  {
   "cell_type": "markdown",
   "metadata": {},
   "source": [
    " Here we don't need to treat null values because we are not building a model."
   ]
  },
  {
   "cell_type": "code",
   "execution_count": 11,
   "metadata": {},
   "outputs": [
    {
     "data": {
      "text/plain": [
       "Dealer    165\n",
       "Direct     64\n",
       "Name: Allocation Status, dtype: int64"
      ]
     },
     "execution_count": 11,
     "metadata": {},
     "output_type": "execute_result"
    }
   ],
   "source": [
    "retail_df[\"Allocation Status\"].value_counts()"
   ]
  },
  {
   "cell_type": "code",
   "execution_count": 12,
   "metadata": {},
   "outputs": [],
   "source": [
    "# We need only Dealer Data\n",
    "dealer = retail_df[retail_df[\"Allocation Status\"]==\"Dealer\"]"
   ]
  },
  {
   "cell_type": "code",
   "execution_count": 13,
   "metadata": {},
   "outputs": [
    {
     "data": {
      "text/plain": [
       "Windoors      45\n",
       "Sunbird       33\n",
       "Winfratech    20\n",
       "OXXO          20\n",
       "Rajtechnis    15\n",
       "ITP           13\n",
       "Pearlson       8\n",
       "pearlson       7\n",
       "Direct         4\n",
       "Name: Dealer Name, dtype: int64"
      ]
     },
     "execution_count": 13,
     "metadata": {},
     "output_type": "execute_result"
    }
   ],
   "source": [
    "dealer[\"Dealer Name\"].value_counts()"
   ]
  },
  {
   "cell_type": "markdown",
   "metadata": {},
   "source": [
    "Here again after segregating the dealer and direct data separately we see that there are still some orders which are falling under dealer bucket this mightbe typo error."
   ]
  },
  {
   "cell_type": "code",
   "execution_count": 14,
   "metadata": {},
   "outputs": [
    {
     "data": {
      "text/html": [
       "<div>\n",
       "<style scoped>\n",
       "    .dataframe tbody tr th:only-of-type {\n",
       "        vertical-align: middle;\n",
       "    }\n",
       "\n",
       "    .dataframe tbody tr th {\n",
       "        vertical-align: top;\n",
       "    }\n",
       "\n",
       "    .dataframe thead th {\n",
       "        text-align: right;\n",
       "    }\n",
       "</style>\n",
       "<table border=\"1\" class=\"dataframe\">\n",
       "  <thead>\n",
       "    <tr style=\"text-align: right;\">\n",
       "      <th></th>\n",
       "      <th>Month</th>\n",
       "      <th>Enquiry Date</th>\n",
       "      <th>Enquiry Id</th>\n",
       "      <th>Allocation Status</th>\n",
       "      <th>Status</th>\n",
       "      <th>State</th>\n",
       "      <th>City</th>\n",
       "      <th>Pincode</th>\n",
       "      <th>Type of Project</th>\n",
       "      <th>No of Windows</th>\n",
       "      <th>...</th>\n",
       "      <th>Second Action-Call Status.1</th>\n",
       "      <th>Remarks</th>\n",
       "      <th>Price Per Sft</th>\n",
       "      <th>Benefits</th>\n",
       "      <th>Aesthetics</th>\n",
       "      <th>Reduce Street Noise</th>\n",
       "      <th>Low Maintenance</th>\n",
       "      <th>Monsoon Proof</th>\n",
       "      <th>Better Lighting</th>\n",
       "      <th>Reduce AC Energy Cost</th>\n",
       "    </tr>\n",
       "  </thead>\n",
       "  <tbody>\n",
       "    <tr>\n",
       "      <th>0</th>\n",
       "      <td>April'16</td>\n",
       "      <td>02-Apr-16</td>\n",
       "      <td>EC02041646800</td>\n",
       "      <td>Dealer</td>\n",
       "      <td>Won</td>\n",
       "      <td>TAMILNADU</td>\n",
       "      <td>CHENNAI</td>\n",
       "      <td>600008</td>\n",
       "      <td>Renovation</td>\n",
       "      <td>6 to 10</td>\n",
       "      <td>...</td>\n",
       "      <td>NaN</td>\n",
       "      <td>NaN</td>\n",
       "      <td>1105</td>\n",
       "      <td>Aesthetics &amp; Street Noise</td>\n",
       "      <td>1.0</td>\n",
       "      <td>1.0</td>\n",
       "      <td>0.0</td>\n",
       "      <td>0.0</td>\n",
       "      <td>0.0</td>\n",
       "      <td>0.0</td>\n",
       "    </tr>\n",
       "    <tr>\n",
       "      <th>1</th>\n",
       "      <td>April'16</td>\n",
       "      <td>08-Apr-16</td>\n",
       "      <td>EC08041647157</td>\n",
       "      <td>Dealer</td>\n",
       "      <td>Lost</td>\n",
       "      <td>TAMILNADU</td>\n",
       "      <td>CHENNAI</td>\n",
       "      <td>600042</td>\n",
       "      <td>New Construction</td>\n",
       "      <td>6 to 10</td>\n",
       "      <td>...</td>\n",
       "      <td>NaN</td>\n",
       "      <td>Price Issue</td>\n",
       "      <td>985</td>\n",
       "      <td>NaN</td>\n",
       "      <td>NaN</td>\n",
       "      <td>NaN</td>\n",
       "      <td>NaN</td>\n",
       "      <td>NaN</td>\n",
       "      <td>NaN</td>\n",
       "      <td>NaN</td>\n",
       "    </tr>\n",
       "    <tr>\n",
       "      <th>2</th>\n",
       "      <td>April'16</td>\n",
       "      <td>08-Apr-16</td>\n",
       "      <td>EC08041647130</td>\n",
       "      <td>Dealer</td>\n",
       "      <td>Lost</td>\n",
       "      <td>TAMILNADU</td>\n",
       "      <td>CHENNAI</td>\n",
       "      <td>600015</td>\n",
       "      <td>New Construction</td>\n",
       "      <td>1 to 5</td>\n",
       "      <td>...</td>\n",
       "      <td>NaN</td>\n",
       "      <td>Delivery Issue</td>\n",
       "      <td>918</td>\n",
       "      <td>NaN</td>\n",
       "      <td>NaN</td>\n",
       "      <td>NaN</td>\n",
       "      <td>NaN</td>\n",
       "      <td>NaN</td>\n",
       "      <td>NaN</td>\n",
       "      <td>NaN</td>\n",
       "    </tr>\n",
       "    <tr>\n",
       "      <th>5</th>\n",
       "      <td>April'16</td>\n",
       "      <td>11-Apr-16</td>\n",
       "      <td>EC11041647280</td>\n",
       "      <td>Dealer</td>\n",
       "      <td>Lost</td>\n",
       "      <td>TAMILNADU</td>\n",
       "      <td>CHENNAI</td>\n",
       "      <td>600056</td>\n",
       "      <td>Renovation</td>\n",
       "      <td>1 to 5</td>\n",
       "      <td>...</td>\n",
       "      <td>NaN</td>\n",
       "      <td>Price Issue</td>\n",
       "      <td>809</td>\n",
       "      <td>NaN</td>\n",
       "      <td>NaN</td>\n",
       "      <td>NaN</td>\n",
       "      <td>NaN</td>\n",
       "      <td>NaN</td>\n",
       "      <td>NaN</td>\n",
       "      <td>NaN</td>\n",
       "    </tr>\n",
       "    <tr>\n",
       "      <th>6</th>\n",
       "      <td>April'16</td>\n",
       "      <td>12-Apr-16</td>\n",
       "      <td>EC12041647460</td>\n",
       "      <td>Dealer</td>\n",
       "      <td>Lost</td>\n",
       "      <td>TAMILNADU</td>\n",
       "      <td>CHENNAI</td>\n",
       "      <td>600042</td>\n",
       "      <td>New Construction</td>\n",
       "      <td>11 to 20</td>\n",
       "      <td>...</td>\n",
       "      <td>NaN</td>\n",
       "      <td>Budget Constraint</td>\n",
       "      <td>1152</td>\n",
       "      <td>NaN</td>\n",
       "      <td>NaN</td>\n",
       "      <td>NaN</td>\n",
       "      <td>NaN</td>\n",
       "      <td>NaN</td>\n",
       "      <td>NaN</td>\n",
       "      <td>NaN</td>\n",
       "    </tr>\n",
       "  </tbody>\n",
       "</table>\n",
       "<p>5 rows × 40 columns</p>\n",
       "</div>"
      ],
      "text/plain": [
       "      Month Enquiry Date      Enquiry Id Allocation Status Status      State  \\\n",
       "0  April'16    02-Apr-16   EC02041646800            Dealer    Won  TAMILNADU   \n",
       "1  April'16    08-Apr-16   EC08041647157            Dealer   Lost  TAMILNADU   \n",
       "2  April'16    08-Apr-16   EC08041647130            Dealer   Lost  TAMILNADU   \n",
       "5  April'16    11-Apr-16   EC11041647280            Dealer   Lost  TAMILNADU   \n",
       "6  April'16    12-Apr-16   EC12041647460            Dealer   Lost  TAMILNADU   \n",
       "\n",
       "      City  Pincode   Type of Project No of Windows  ...  \\\n",
       "0  CHENNAI   600008        Renovation       6 to 10  ...   \n",
       "1  CHENNAI   600042  New Construction       6 to 10  ...   \n",
       "2  CHENNAI   600015  New Construction        1 to 5  ...   \n",
       "5  CHENNAI   600056        Renovation        1 to 5  ...   \n",
       "6  CHENNAI   600042  New Construction      11 to 20  ...   \n",
       "\n",
       "  Second Action-Call Status.1            Remarks Price Per Sft  \\\n",
       "0                         NaN                NaN          1105   \n",
       "1                         NaN        Price Issue           985   \n",
       "2                         NaN     Delivery Issue           918   \n",
       "5                         NaN        Price Issue           809   \n",
       "6                         NaN  Budget Constraint          1152   \n",
       "\n",
       "                    Benefits Aesthetics Reduce Street Noise Low Maintenance  \\\n",
       "0  Aesthetics & Street Noise        1.0                 1.0             0.0   \n",
       "1                        NaN        NaN                 NaN             NaN   \n",
       "2                        NaN        NaN                 NaN             NaN   \n",
       "5                        NaN        NaN                 NaN             NaN   \n",
       "6                        NaN        NaN                 NaN             NaN   \n",
       "\n",
       "  Monsoon Proof Better Lighting Reduce AC Energy Cost  \n",
       "0           0.0             0.0                   0.0  \n",
       "1           NaN             NaN                   NaN  \n",
       "2           NaN             NaN                   NaN  \n",
       "5           NaN             NaN                   NaN  \n",
       "6           NaN             NaN                   NaN  \n",
       "\n",
       "[5 rows x 40 columns]"
      ]
     },
     "execution_count": 14,
     "metadata": {},
     "output_type": "execute_result"
    }
   ],
   "source": [
    "dealer_data = dealer[dealer[\"Dealer Name\"]!=\"Direct\"]\n",
    "\n",
    "dealer_data.head()"
   ]
  },
  {
   "cell_type": "markdown",
   "metadata": {},
   "source": [
    "#### Looking at number of dealers"
   ]
  },
  {
   "cell_type": "code",
   "execution_count": 15,
   "metadata": {},
   "outputs": [
    {
     "data": {
      "text/plain": [
       "Windoors      45\n",
       "Sunbird       33\n",
       "Winfratech    20\n",
       "OXXO          20\n",
       "Rajtechnis    15\n",
       "ITP           13\n",
       "Pearlson       8\n",
       "pearlson       7\n",
       "Name: Dealer Name, dtype: int64"
      ]
     },
     "execution_count": 15,
     "metadata": {},
     "output_type": "execute_result"
    }
   ],
   "source": [
    "dealer_data[\"Dealer Name\"].value_counts() #we see a mistake in pearlson dealer name"
   ]
  },
  {
   "cell_type": "code",
   "execution_count": 16,
   "metadata": {},
   "outputs": [],
   "source": [
    "dealer_data[\"Dealer Name\"].replace(to_replace='pearlson',value=\"Pearlson\",inplace=True)"
   ]
  },
  {
   "cell_type": "code",
   "execution_count": 17,
   "metadata": {},
   "outputs": [
    {
     "data": {
      "text/plain": [
       "Windoors      45\n",
       "Sunbird       33\n",
       "Winfratech    20\n",
       "OXXO          20\n",
       "Pearlson      15\n",
       "Rajtechnis    15\n",
       "ITP           13\n",
       "Name: Dealer Name, dtype: int64"
      ]
     },
     "execution_count": 17,
     "metadata": {},
     "output_type": "execute_result"
    }
   ],
   "source": [
    "dealer_data[\"Dealer Name\"].value_counts()"
   ]
  },
  {
   "cell_type": "code",
   "execution_count": 18,
   "metadata": {},
   "outputs": [],
   "source": [
    "# There are 7 Dealers in total"
   ]
  },
  {
   "cell_type": "code",
   "execution_count": 19,
   "metadata": {},
   "outputs": [],
   "source": [
    "# Looking at Dealers Order Status"
   ]
  },
  {
   "cell_type": "code",
   "execution_count": 20,
   "metadata": {},
   "outputs": [
    {
     "data": {
      "text/html": [
       "<div>\n",
       "<style scoped>\n",
       "    .dataframe tbody tr th:only-of-type {\n",
       "        vertical-align: middle;\n",
       "    }\n",
       "\n",
       "    .dataframe tbody tr th {\n",
       "        vertical-align: top;\n",
       "    }\n",
       "\n",
       "    .dataframe thead th {\n",
       "        text-align: right;\n",
       "    }\n",
       "</style>\n",
       "<table border=\"1\" class=\"dataframe\">\n",
       "  <thead>\n",
       "    <tr style=\"text-align: right;\">\n",
       "      <th>Status</th>\n",
       "      <th>Lost</th>\n",
       "      <th>Won</th>\n",
       "    </tr>\n",
       "    <tr>\n",
       "      <th>Dealer Name</th>\n",
       "      <th></th>\n",
       "      <th></th>\n",
       "    </tr>\n",
       "  </thead>\n",
       "  <tbody>\n",
       "    <tr>\n",
       "      <th>ITP</th>\n",
       "      <td>13</td>\n",
       "      <td>0</td>\n",
       "    </tr>\n",
       "    <tr>\n",
       "      <th>OXXO</th>\n",
       "      <td>16</td>\n",
       "      <td>4</td>\n",
       "    </tr>\n",
       "    <tr>\n",
       "      <th>Pearlson</th>\n",
       "      <td>11</td>\n",
       "      <td>4</td>\n",
       "    </tr>\n",
       "    <tr>\n",
       "      <th>Rajtechnis</th>\n",
       "      <td>14</td>\n",
       "      <td>1</td>\n",
       "    </tr>\n",
       "    <tr>\n",
       "      <th>Sunbird</th>\n",
       "      <td>24</td>\n",
       "      <td>9</td>\n",
       "    </tr>\n",
       "    <tr>\n",
       "      <th>Windoors</th>\n",
       "      <td>39</td>\n",
       "      <td>6</td>\n",
       "    </tr>\n",
       "    <tr>\n",
       "      <th>Winfratech</th>\n",
       "      <td>18</td>\n",
       "      <td>2</td>\n",
       "    </tr>\n",
       "  </tbody>\n",
       "</table>\n",
       "</div>"
      ],
      "text/plain": [
       "Status       Lost  Won\n",
       "Dealer Name           \n",
       "ITP            13    0\n",
       "OXXO           16    4\n",
       "Pearlson       11    4\n",
       "Rajtechnis     14    1\n",
       "Sunbird        24    9\n",
       "Windoors       39    6\n",
       "Winfratech     18    2"
      ]
     },
     "execution_count": 20,
     "metadata": {},
     "output_type": "execute_result"
    }
   ],
   "source": [
    "pd.crosstab(dealer_data[\"Dealer Name\"],dealer_data[\"Status\"])"
   ]
  },
  {
   "cell_type": "markdown",
   "metadata": {},
   "source": [
    "#### conversion rate of dealers"
   ]
  },
  {
   "cell_type": "code",
   "execution_count": 21,
   "metadata": {},
   "outputs": [
    {
     "data": {
      "text/html": [
       "<div>\n",
       "<style scoped>\n",
       "    .dataframe tbody tr th:only-of-type {\n",
       "        vertical-align: middle;\n",
       "    }\n",
       "\n",
       "    .dataframe tbody tr th {\n",
       "        vertical-align: top;\n",
       "    }\n",
       "\n",
       "    .dataframe thead th {\n",
       "        text-align: right;\n",
       "    }\n",
       "</style>\n",
       "<table border=\"1\" class=\"dataframe\">\n",
       "  <thead>\n",
       "    <tr style=\"text-align: right;\">\n",
       "      <th>Status</th>\n",
       "      <th>Lost</th>\n",
       "      <th>Won</th>\n",
       "    </tr>\n",
       "    <tr>\n",
       "      <th>Dealer Name</th>\n",
       "      <th></th>\n",
       "      <th></th>\n",
       "    </tr>\n",
       "  </thead>\n",
       "  <tbody>\n",
       "    <tr>\n",
       "      <th>ITP</th>\n",
       "      <td>1.000000</td>\n",
       "      <td>0.000000</td>\n",
       "    </tr>\n",
       "    <tr>\n",
       "      <th>OXXO</th>\n",
       "      <td>0.800000</td>\n",
       "      <td>0.200000</td>\n",
       "    </tr>\n",
       "    <tr>\n",
       "      <th>Pearlson</th>\n",
       "      <td>0.733333</td>\n",
       "      <td>0.266667</td>\n",
       "    </tr>\n",
       "    <tr>\n",
       "      <th>Rajtechnis</th>\n",
       "      <td>0.933333</td>\n",
       "      <td>0.066667</td>\n",
       "    </tr>\n",
       "    <tr>\n",
       "      <th>Sunbird</th>\n",
       "      <td>0.727273</td>\n",
       "      <td>0.272727</td>\n",
       "    </tr>\n",
       "    <tr>\n",
       "      <th>Windoors</th>\n",
       "      <td>0.866667</td>\n",
       "      <td>0.133333</td>\n",
       "    </tr>\n",
       "    <tr>\n",
       "      <th>Winfratech</th>\n",
       "      <td>0.900000</td>\n",
       "      <td>0.100000</td>\n",
       "    </tr>\n",
       "  </tbody>\n",
       "</table>\n",
       "</div>"
      ],
      "text/plain": [
       "Status           Lost       Won\n",
       "Dealer Name                    \n",
       "ITP          1.000000  0.000000\n",
       "OXXO         0.800000  0.200000\n",
       "Pearlson     0.733333  0.266667\n",
       "Rajtechnis   0.933333  0.066667\n",
       "Sunbird      0.727273  0.272727\n",
       "Windoors     0.866667  0.133333\n",
       "Winfratech   0.900000  0.100000"
      ]
     },
     "execution_count": 21,
     "metadata": {},
     "output_type": "execute_result"
    }
   ],
   "source": [
    "CONVERSION_RATE = pd.crosstab(dealer_data[\"Dealer Name\"],dealer_data[\"Status\"]).apply(lambda r:r/r .sum(),axis=1)\n",
    "CONVERSION_RATE"
   ]
  },
  {
   "cell_type": "markdown",
   "metadata": {},
   "source": [
    "From the above analysis we can say that sunbird has a good conversion rate of all the dealers."
   ]
  },
  {
   "cell_type": "code",
   "execution_count": 26,
   "metadata": {},
   "outputs": [],
   "source": [
    "import seaborn as sns\n",
    "import matplotlib.pyplot as plt"
   ]
  },
  {
   "cell_type": "code",
   "execution_count": 27,
   "metadata": {},
   "outputs": [
    {
     "data": {
      "image/png": "[encoded data removed]",
      "text/plain": [
       "<Figure size 432x288 with 1 Axes>"
      ]
     },
     "metadata": {
      "needs_background": "light"
     },
     "output_type": "display_data"
    }
   ],
   "source": [
    "sns.countplot(x=\"Dealer Name\",hue=\"Status\",data=dealer_data).set_title(\"Order Status Won/Lost By Dealers\")\n",
    "plt.show()"
   ]
  },
  {
   "cell_type": "code",
   "execution_count": 28,
   "metadata": {},
   "outputs": [],
   "source": [
    "# checkign area wise orders count"
   ]
  },
  {
   "cell_type": "code",
   "execution_count": 29,
   "metadata": {},
   "outputs": [
    {
     "data": {
      "text/plain": [
       "CHENNAI           111\n",
       "THIRUVALLUR        20\n",
       "KANCHIPURAM        18\n",
       "VELLORE             6\n",
       "VILLUPURAM          2\n",
       "KRISHNAGIRI         2\n",
       "CUDDALORE           1\n",
       "TIRUVANNAMALAI      1\n",
       "Name: City, dtype: int64"
      ]
     },
     "execution_count": 29,
     "metadata": {},
     "output_type": "execute_result"
    }
   ],
   "source": [
    "dealer_data[\"City\"].value_counts()"
   ]
  },
  {
   "cell_type": "code",
   "execution_count": 30,
   "metadata": {},
   "outputs": [
    {
     "data": {
      "text/html": [
       "<div>\n",
       "<style scoped>\n",
       "    .dataframe tbody tr th:only-of-type {\n",
       "        vertical-align: middle;\n",
       "    }\n",
       "\n",
       "    .dataframe tbody tr th {\n",
       "        vertical-align: top;\n",
       "    }\n",
       "\n",
       "    .dataframe thead th {\n",
       "        text-align: right;\n",
       "    }\n",
       "</style>\n",
       "<table border=\"1\" class=\"dataframe\">\n",
       "  <thead>\n",
       "    <tr style=\"text-align: right;\">\n",
       "      <th>City</th>\n",
       "      <th>CHENNAI</th>\n",
       "      <th>CUDDALORE</th>\n",
       "      <th>KANCHIPURAM</th>\n",
       "      <th>KRISHNAGIRI</th>\n",
       "      <th>THIRUVALLUR</th>\n",
       "      <th>TIRUVANNAMALAI</th>\n",
       "      <th>VELLORE</th>\n",
       "      <th>VILLUPURAM</th>\n",
       "    </tr>\n",
       "    <tr>\n",
       "      <th>Dealer Name</th>\n",
       "      <th></th>\n",
       "      <th></th>\n",
       "      <th></th>\n",
       "      <th></th>\n",
       "      <th></th>\n",
       "      <th></th>\n",
       "      <th></th>\n",
       "      <th></th>\n",
       "    </tr>\n",
       "  </thead>\n",
       "  <tbody>\n",
       "    <tr>\n",
       "      <th>ITP</th>\n",
       "      <td>7</td>\n",
       "      <td>0</td>\n",
       "      <td>1</td>\n",
       "      <td>0</td>\n",
       "      <td>4</td>\n",
       "      <td>0</td>\n",
       "      <td>0</td>\n",
       "      <td>1</td>\n",
       "    </tr>\n",
       "    <tr>\n",
       "      <th>OXXO</th>\n",
       "      <td>11</td>\n",
       "      <td>0</td>\n",
       "      <td>3</td>\n",
       "      <td>0</td>\n",
       "      <td>6</td>\n",
       "      <td>0</td>\n",
       "      <td>0</td>\n",
       "      <td>0</td>\n",
       "    </tr>\n",
       "    <tr>\n",
       "      <th>Pearlson</th>\n",
       "      <td>15</td>\n",
       "      <td>0</td>\n",
       "      <td>0</td>\n",
       "      <td>0</td>\n",
       "      <td>0</td>\n",
       "      <td>0</td>\n",
       "      <td>0</td>\n",
       "      <td>0</td>\n",
       "    </tr>\n",
       "    <tr>\n",
       "      <th>Rajtechnis</th>\n",
       "      <td>14</td>\n",
       "      <td>0</td>\n",
       "      <td>0</td>\n",
       "      <td>0</td>\n",
       "      <td>1</td>\n",
       "      <td>0</td>\n",
       "      <td>0</td>\n",
       "      <td>0</td>\n",
       "    </tr>\n",
       "    <tr>\n",
       "      <th>Sunbird</th>\n",
       "      <td>25</td>\n",
       "      <td>0</td>\n",
       "      <td>6</td>\n",
       "      <td>0</td>\n",
       "      <td>1</td>\n",
       "      <td>1</td>\n",
       "      <td>0</td>\n",
       "      <td>0</td>\n",
       "    </tr>\n",
       "    <tr>\n",
       "      <th>Windoors</th>\n",
       "      <td>24</td>\n",
       "      <td>1</td>\n",
       "      <td>3</td>\n",
       "      <td>2</td>\n",
       "      <td>8</td>\n",
       "      <td>0</td>\n",
       "      <td>6</td>\n",
       "      <td>1</td>\n",
       "    </tr>\n",
       "    <tr>\n",
       "      <th>Winfratech</th>\n",
       "      <td>15</td>\n",
       "      <td>0</td>\n",
       "      <td>5</td>\n",
       "      <td>0</td>\n",
       "      <td>0</td>\n",
       "      <td>0</td>\n",
       "      <td>0</td>\n",
       "      <td>0</td>\n",
       "    </tr>\n",
       "  </tbody>\n",
       "</table>\n",
       "</div>"
      ],
      "text/plain": [
       "City         CHENNAI  CUDDALORE  KANCHIPURAM  KRISHNAGIRI  THIRUVALLUR  \\\n",
       "Dealer Name                                                              \n",
       "ITP                7          0            1            0            4   \n",
       "OXXO              11          0            3            0            6   \n",
       "Pearlson          15          0            0            0            0   \n",
       "Rajtechnis        14          0            0            0            1   \n",
       "Sunbird           25          0            6            0            1   \n",
       "Windoors          24          1            3            2            8   \n",
       "Winfratech        15          0            5            0            0   \n",
       "\n",
       "City         TIRUVANNAMALAI  VELLORE  VILLUPURAM  \n",
       "Dealer Name                                       \n",
       "ITP                       0        0           1  \n",
       "OXXO                      0        0           0  \n",
       "Pearlson                  0        0           0  \n",
       "Rajtechnis                0        0           0  \n",
       "Sunbird                   1        0           0  \n",
       "Windoors                  0        6           1  \n",
       "Winfratech                0        0           0  "
      ]
     },
     "execution_count": 30,
     "metadata": {},
     "output_type": "execute_result"
    }
   ],
   "source": [
    "pd.crosstab(dealer_data[\"Dealer Name\"],dealer_data[\"City\"])"
   ]
  },
  {
   "cell_type": "markdown",
   "metadata": {},
   "source": [
    "we can see almost most of the orders are coming from Chennai City followed by Kanchipuram so better tofocus more on chennai region for improvement in sales.\n",
    "\n",
    "As Chennai is a metro city location might be playing a huge role in the market."
   ]
  },
  {
   "cell_type": "code",
   "execution_count": 31,
   "metadata": {},
   "outputs": [],
   "source": [
    "# checking for project type in orders"
   ]
  },
  {
   "cell_type": "code",
   "execution_count": 32,
   "metadata": {},
   "outputs": [
    {
     "data": {
      "text/plain": [
       "Renovation          105\n",
       "New Construction     56\n",
       "Name: Type of Project, dtype: int64"
      ]
     },
     "execution_count": 32,
     "metadata": {},
     "output_type": "execute_result"
    }
   ],
   "source": [
    "dealer_data[\"Type of Project\"].value_counts()"
   ]
  },
  {
   "cell_type": "code",
   "execution_count": 34,
   "metadata": {},
   "outputs": [
    {
     "data": {
      "image/png": "[encoded data removed]",
      "text/plain": [
       "<Figure size 432x288 with 1 Axes>"
      ]
     },
     "metadata": {
      "needs_background": "light"
     },
     "output_type": "display_data"
    }
   ],
   "source": [
    "pd.crosstab(dealer_data['Type of Project'],dealer_data[\"Status\"]).plot(kind=\"bar\")\n",
    "plt.title(\" Order Status based on Type of Project\")\n",
    "plt.show()"
   ]
  },
  {
   "cell_type": "code",
   "execution_count": 35,
   "metadata": {},
   "outputs": [
    {
     "data": {
      "text/html": [
       "<div>\n",
       "<style scoped>\n",
       "    .dataframe tbody tr th:only-of-type {\n",
       "        vertical-align: middle;\n",
       "    }\n",
       "\n",
       "    .dataframe tbody tr th {\n",
       "        vertical-align: top;\n",
       "    }\n",
       "\n",
       "    .dataframe thead th {\n",
       "        text-align: right;\n",
       "    }\n",
       "</style>\n",
       "<table border=\"1\" class=\"dataframe\">\n",
       "  <thead>\n",
       "    <tr style=\"text-align: right;\">\n",
       "      <th>Status</th>\n",
       "      <th>Lost</th>\n",
       "      <th>Won</th>\n",
       "    </tr>\n",
       "    <tr>\n",
       "      <th>Type of Project</th>\n",
       "      <th></th>\n",
       "      <th></th>\n",
       "    </tr>\n",
       "  </thead>\n",
       "  <tbody>\n",
       "    <tr>\n",
       "      <th>New Construction</th>\n",
       "      <td>47</td>\n",
       "      <td>9</td>\n",
       "    </tr>\n",
       "    <tr>\n",
       "      <th>Renovation</th>\n",
       "      <td>88</td>\n",
       "      <td>17</td>\n",
       "    </tr>\n",
       "  </tbody>\n",
       "</table>\n",
       "</div>"
      ],
      "text/plain": [
       "Status            Lost  Won\n",
       "Type of Project            \n",
       "New Construction    47    9\n",
       "Renovation          88   17"
      ]
     },
     "execution_count": 35,
     "metadata": {},
     "output_type": "execute_result"
    }
   ],
   "source": [
    "pd.crosstab(dealer_data['Type of Project'],dealer_data[\"Status\"])"
   ]
  },
  {
   "cell_type": "code",
   "execution_count": 36,
   "metadata": {},
   "outputs": [
    {
     "data": {
      "text/html": [
       "<div>\n",
       "<style scoped>\n",
       "    .dataframe tbody tr th:only-of-type {\n",
       "        vertical-align: middle;\n",
       "    }\n",
       "\n",
       "    .dataframe tbody tr th {\n",
       "        vertical-align: top;\n",
       "    }\n",
       "\n",
       "    .dataframe thead th {\n",
       "        text-align: right;\n",
       "    }\n",
       "</style>\n",
       "<table border=\"1\" class=\"dataframe\">\n",
       "  <thead>\n",
       "    <tr style=\"text-align: right;\">\n",
       "      <th>Status</th>\n",
       "      <th>Lost</th>\n",
       "      <th>Won</th>\n",
       "    </tr>\n",
       "    <tr>\n",
       "      <th>Type of Project</th>\n",
       "      <th></th>\n",
       "      <th></th>\n",
       "    </tr>\n",
       "  </thead>\n",
       "  <tbody>\n",
       "    <tr>\n",
       "      <th>New Construction</th>\n",
       "      <td>0.839286</td>\n",
       "      <td>0.160714</td>\n",
       "    </tr>\n",
       "    <tr>\n",
       "      <th>Renovation</th>\n",
       "      <td>0.838095</td>\n",
       "      <td>0.161905</td>\n",
       "    </tr>\n",
       "  </tbody>\n",
       "</table>\n",
       "</div>"
      ],
      "text/plain": [
       "Status                Lost       Won\n",
       "Type of Project                     \n",
       "New Construction  0.839286  0.160714\n",
       "Renovation        0.838095  0.161905"
      ]
     },
     "execution_count": 36,
     "metadata": {},
     "output_type": "execute_result"
    }
   ],
   "source": [
    "pd.crosstab(dealer_data['Type of Project'],dealer_data[\"Status\"]).apply(lambda r:r/r .sum(),axis=1)"
   ]
  },
  {
   "cell_type": "markdown",
   "metadata": {},
   "source": [
    "Almost both the type of project has same conversion rate not much difference"
   ]
  },
  {
   "cell_type": "markdown",
   "metadata": {},
   "source": [
    "#### Reasons Why Order is lost for dealers"
   ]
  },
  {
   "cell_type": "code",
   "execution_count": 37,
   "metadata": {},
   "outputs": [
    {
     "data": {
      "text/plain": [
       "Price Issue                      79\n",
       "Budget Constraint                20\n",
       "Design Infeasibility             20\n",
       "Price issue                       3\n",
       "Delivery Issue                    2\n",
       "No Requirment                     1\n",
       "Design Infeasibe My               1\n",
       "No Requirement-Awareness Call     1\n",
       "Others                            1\n",
       "Design Not Feasible               1\n",
       "Delivery Issve                    1\n",
       "Name: Remarks, dtype: int64"
      ]
     },
     "execution_count": 37,
     "metadata": {},
     "output_type": "execute_result"
    }
   ],
   "source": [
    "dealer_data[\"Remarks\"].value_counts()"
   ]
  },
  {
   "cell_type": "code",
   "execution_count": 42,
   "metadata": {},
   "outputs": [
    {
     "data": {
      "image/png": "[encoded data removed]",
      "text/plain": [
       "<Figure size 432x288 with 1 Axes>"
      ]
     },
     "metadata": {
      "needs_background": "light"
     },
     "output_type": "display_data"
    }
   ],
   "source": [
    "dealer_data[\"Remarks\"].value_counts().plot(kind= \"bar\").set_title(\"Reasons for loosing a Order\")\n",
    "plt.show()"
   ]
  },
  {
   "cell_type": "code",
   "execution_count": 39,
   "metadata": {},
   "outputs": [
    {
     "data": {
      "text/plain": [
       "Lost to UPVC (Provide details)    63\n",
       "Order Received                    26\n",
       "Lost to Wooden                    25\n",
       "Product Issue-Design/Type         23\n",
       "Lost to Aluminum                  21\n",
       "Delivery Time Not Possible         3\n",
       "Name:  Order Recd\\Lost , dtype: int64"
      ]
     },
     "execution_count": 39,
     "metadata": {},
     "output_type": "execute_result"
    }
   ],
   "source": [
    "dealer_data[\" Order Recd\\\\Lost \"].value_counts()"
   ]
  },
  {
   "cell_type": "code",
   "execution_count": 41,
   "metadata": {},
   "outputs": [
    {
     "data": {
      "image/png": "[encoded data removed]",
      "text/plain": [
       "<Figure size 432x288 with 1 Axes>"
      ]
     },
     "metadata": {
      "needs_background": "light"
     },
     "output_type": "display_data"
    }
   ],
   "source": [
    "dealer_data[\" Order Recd\\Lost \"].value_counts().plot(kind=\"bar\")\n",
    "plt.show()"
   ]
  },
  {
   "cell_type": "markdown",
   "metadata": {},
   "source": [
    "we can clearly say that almost 70% of the reason for loosing a order is PRICE ISSUE so need to keep in my mind that there might be competitors in the market who are offering for less price comparatively also need to look in design feasibility options provided for customers.\n",
    "\n",
    "One more major reason is Lost to UPVC, by studying a bit about the domain i came to an understanding that UPVC are a type of windows which are not available with the dealers this might be the case that they are unable to convert the orders."
   ]
  },
  {
   "cell_type": "code",
   "execution_count": 43,
   "metadata": {},
   "outputs": [
    {
     "data": {
      "text/plain": [
       "Reduce Street Noise                      6\n",
       "Nil                                      5\n",
       "Reduce AC Energy Cost & Street Noise     4\n",
       "Aesthetics & Low Maintenance             3\n",
       "Low Maintenance                          2\n",
       "Reduce Street Noise & Low Maintenance    1\n",
       "Low Maintenance & Aesthetics             1\n",
       "Reduce Street noise                      1\n",
       "nil                                      1\n",
       "Noise Proof & Better Lighting            1\n",
       "Aesthetics & Street Noise                1\n",
       "Name: Benefits, dtype: int64"
      ]
     },
     "execution_count": 43,
     "metadata": {},
     "output_type": "execute_result"
    }
   ],
   "source": [
    "dealer_data[\"Benefits\"].value_counts()"
   ]
  },
  {
   "cell_type": "markdown",
   "metadata": {},
   "source": [
    "When the order is succesfull most times Reduce Street Noise Benefit is given but the difference from the other benfits when the order is successful is not that high."
   ]
  },
  {
   "cell_type": "code",
   "execution_count": 44,
   "metadata": {},
   "outputs": [
    {
     "data": {
      "text/plain": [
       "Appointment Fixed                132\n",
       "Budget Constraint                 19\n",
       "Design not Feasible                6\n",
       "No Requirement-Awareness Call      3\n",
       "Time Frame Not Possible            1\n",
       "Name: First Action-Call Status, dtype: int64"
      ]
     },
     "execution_count": 44,
     "metadata": {},
     "output_type": "execute_result"
    }
   ],
   "source": [
    "dealer_data[\"First Action-Call Status\"].value_counts()"
   ]
  },
  {
   "cell_type": "code",
   "execution_count": 45,
   "metadata": {},
   "outputs": [
    {
     "data": {
      "text/plain": [
       "161"
      ]
     },
     "execution_count": 45,
     "metadata": {},
     "output_type": "execute_result"
    }
   ],
   "source": [
    "dealer_data[\"First Action-Call Status\"].count()"
   ]
  },
  {
   "cell_type": "code",
   "execution_count": 46,
   "metadata": {},
   "outputs": [
    {
     "data": {
      "text/plain": [
       "Quote to Be Submitted       129\n",
       "Design not Feasible           1\n",
       "Further Meeting Required      1\n",
       "Name: Second Action-Call Status, dtype: int64"
      ]
     },
     "execution_count": 46,
     "metadata": {},
     "output_type": "execute_result"
    }
   ],
   "source": [
    "dealer_data[\"Second Action-Call Status\"].value_counts()"
   ]
  },
  {
   "cell_type": "code",
   "execution_count": 47,
   "metadata": {},
   "outputs": [
    {
     "data": {
      "text/plain": [
       "131"
      ]
     },
     "execution_count": 47,
     "metadata": {},
     "output_type": "execute_result"
    }
   ],
   "source": [
    "dealer_data[\"Second Action-Call Status\"].count()"
   ]
  },
  {
   "cell_type": "markdown",
   "metadata": {},
   "source": [
    "Here when the first call was made, out of 161 customers 132 customers have fixed an appointment and 19 customers dropped due to budget constraint not a big number to worry as of now and in second call status out of 132 customers who are scheduled for meeting 129 customers asked for the Price Quotation."
   ]
  },
  {
   "cell_type": "code",
   "execution_count": 48,
   "metadata": {},
   "outputs": [
    {
     "data": {
      "text/plain": [
       "124"
      ]
     },
     "execution_count": 48,
     "metadata": {},
     "output_type": "execute_result"
    }
   ],
   "source": [
    "dealer_data[\"Q Val. (Rs. Lac)\"].count()"
   ]
  },
  {
   "cell_type": "markdown",
   "metadata": {},
   "source": [
    "\n",
    "But finally only 124 customers have taken Price Quotation\n",
    "\n",
    "A Simple Loop For Finding the Dealer wise Price Quotations Total"
   ]
  },
  {
   "cell_type": "code",
   "execution_count": 49,
   "metadata": {
    "scrolled": true
   },
   "outputs": [
    {
     "data": {
      "text/plain": [
       "Sunbird       46.41\n",
       "Winfratech    16.62\n",
       "Rajtechnis    14.81\n",
       "Windoors      69.82\n",
       "OXXO          26.49\n",
       "ITP           17.45\n",
       "Pearlson      15.89\n",
       "dtype: float64"
      ]
     },
     "execution_count": 49,
     "metadata": {},
     "output_type": "execute_result"
    }
   ],
   "source": [
    "Price_Quotation_Dealer_wise = pd.Series()\n",
    "for i in dealer_data['Dealer Name'].unique():\n",
    "    Price_Quotation_Dealer_wise[i] = dealer_data[dealer_data['Dealer Name']==i][\"Q Val. (Rs. Lac)\"].sum() \n",
    "Price_Quotation_Dealer_wise"
   ]
  },
  {
   "cell_type": "markdown",
   "metadata": {},
   "source": [
    "#### Total Number Of Orders Each Dealer Got"
   ]
  },
  {
   "cell_type": "code",
   "execution_count": 50,
   "metadata": {},
   "outputs": [
    {
     "data": {
      "text/plain": [
       "Sunbird       33\n",
       "Winfratech    20\n",
       "Rajtechnis    15\n",
       "Windoors      45\n",
       "OXXO          20\n",
       "ITP           13\n",
       "Pearlson      15\n",
       "dtype: int64"
      ]
     },
     "execution_count": 50,
     "metadata": {},
     "output_type": "execute_result"
    }
   ],
   "source": [
    "Orders_each_dealer_got = pd.Series()\n",
    "\n",
    "for i in dealer_data[\"Dealer Name\"].unique():\n",
    "    Orders_each_dealer_got[i] = dealer_data[dealer_data['Dealer Name']==i]['Status'].count()\n",
    "Orders_each_dealer_got"
   ]
  },
  {
   "cell_type": "markdown",
   "metadata": {},
   "source": [
    "Here Windoors has got highest number of orders 45 and it have quotation price of worth 69 lakhs and it is followed by Winfratech,Rajtechnis,Windoors,OXXO,ITP,Pearlson but what is the final Conversion rate And which dealer has highest Order Price"
   ]
  },
  {
   "cell_type": "code",
   "execution_count": 51,
   "metadata": {},
   "outputs": [
    {
     "data": {
      "text/plain": [
       "24"
      ]
     },
     "execution_count": 51,
     "metadata": {},
     "output_type": "execute_result"
    }
   ],
   "source": [
    "dealer_data[\"Order Val. (Rs. Lac)\"].count()"
   ]
  },
  {
   "cell_type": "code",
   "execution_count": 52,
   "metadata": {},
   "outputs": [
    {
     "data": {
      "text/plain": [
       "26"
      ]
     },
     "execution_count": 52,
     "metadata": {},
     "output_type": "execute_result"
    }
   ],
   "source": [
    "dealer_data[dealer_data[\"Status\"]==\"Won\"][\"Status\"].count()    "
   ]
  },
  {
   "cell_type": "markdown",
   "metadata": {},
   "source": [
    "Here we have mismatch between total orders which got won status and Order Value. There are 2 missing values in Order Value"
   ]
  },
  {
   "cell_type": "code",
   "execution_count": 53,
   "metadata": {},
   "outputs": [
    {
     "data": {
      "text/plain": [
       "count    24.000000\n",
       "mean      1.901667\n",
       "std       2.559672\n",
       "min       0.070000\n",
       "25%       0.537500\n",
       "50%       1.080000\n",
       "75%       1.507500\n",
       "max      10.950000\n",
       "Name: Order Val. (Rs. Lac), dtype: float64"
      ]
     },
     "execution_count": 53,
     "metadata": {},
     "output_type": "execute_result"
    }
   ],
   "source": [
    "dealer_data[\"Order Val. (Rs. Lac)\"].describe()"
   ]
  },
  {
   "cell_type": "code",
   "execution_count": 54,
   "metadata": {},
   "outputs": [
    {
     "data": {
      "text/plain": [
       "Sunbird       10.30\n",
       "Winfratech     2.11\n",
       "Rajtechnis     0.53\n",
       "Windoors      11.54\n",
       "OXXO           7.39\n",
       "ITP            0.00\n",
       "Pearlson      13.77\n",
       "dtype: float64"
      ]
     },
     "execution_count": 54,
     "metadata": {},
     "output_type": "execute_result"
    }
   ],
   "source": [
    "Order_value_Dealer_wise = pd.Series()\n",
    "for i in dealer_data['Dealer Name'].unique():\n",
    "    Order_value_Dealer_wise[i] = dealer_data[dealer_data['Dealer Name']==i][\"Order Val. (Rs. Lac)\"].sum() \n",
    "Order_value_Dealer_wise"
   ]
  },
  {
   "cell_type": "code",
   "execution_count": 60,
   "metadata": {},
   "outputs": [
    {
     "data": {
      "image/png": "[encoded data removed]",
      "text/plain": [
       "<Figure size 432x288 with 1 Axes>"
      ]
     },
     "metadata": {
      "needs_background": "light"
     },
     "output_type": "display_data"
    }
   ],
   "source": [
    "Order_value_Dealer_wise.plot(kind=\"bar\")\n",
    "plt.show()"
   ]
  },
  {
   "cell_type": "code",
   "execution_count": 56,
   "metadata": {},
   "outputs": [
    {
     "data": {
      "text/plain": [
       "count     7.000000\n",
       "mean      6.520000\n",
       "std       5.636884\n",
       "min       0.000000\n",
       "25%       1.320000\n",
       "50%       7.390000\n",
       "75%      10.920000\n",
       "max      13.770000\n",
       "dtype: float64"
      ]
     },
     "execution_count": 56,
     "metadata": {},
     "output_type": "execute_result"
    }
   ],
   "source": [
    "Order_value_Dealer_wise.describe()"
   ]
  },
  {
   "cell_type": "code",
   "execution_count": 57,
   "metadata": {},
   "outputs": [
    {
     "data": {
      "text/plain": [
       "count    7.000000\n",
       "mean     0.148485\n",
       "std      0.102777\n",
       "min      0.000000\n",
       "25%      0.083333\n",
       "50%      0.133333\n",
       "75%      0.233333\n",
       "max      0.272727\n",
       "Name: Won, dtype: float64"
      ]
     },
     "execution_count": 57,
     "metadata": {},
     "output_type": "execute_result"
    }
   ],
   "source": [
    "CONVERSION_RATE['Won'].describe()"
   ]
  },
  {
   "cell_type": "markdown",
   "metadata": {},
   "source": [
    "\n",
    "Now we can find the under performers by 2 ways by looking at their CONVERSION RATE of orders and by Average ORDER VALUE the avg order value is 6.52 lakhs but again avg order value depends on the ORDER QUANTITY so we need to take both average CONVERSION RATE and Average ORDER VALUE to evaluate the Performers\n",
    "\n",
    "The Average Conversion Rate and Average Order Quantity are 14.8% and 6.52 lakhs respectively\n",
    "\n",
    "Now Under Performing Dealers Are :"
   ]
  },
  {
   "cell_type": "code",
   "execution_count": 58,
   "metadata": {},
   "outputs": [
    {
     "data": {
      "text/plain": [
       "Sunbird       10.30\n",
       "Winfratech     2.11\n",
       "Rajtechnis     0.53\n",
       "Windoors      11.54\n",
       "OXXO           7.39\n",
       "ITP            0.00\n",
       "Pearlson      13.77\n",
       "dtype: float64"
      ]
     },
     "execution_count": 58,
     "metadata": {},
     "output_type": "execute_result"
    }
   ],
   "source": [
    "Order_value_Dealer_wise"
   ]
  },
  {
   "cell_type": "code",
   "execution_count": 59,
   "metadata": {},
   "outputs": [
    {
     "data": {
      "text/html": [
       "<div>\n",
       "<style scoped>\n",
       "    .dataframe tbody tr th:only-of-type {\n",
       "        vertical-align: middle;\n",
       "    }\n",
       "\n",
       "    .dataframe tbody tr th {\n",
       "        vertical-align: top;\n",
       "    }\n",
       "\n",
       "    .dataframe thead th {\n",
       "        text-align: right;\n",
       "    }\n",
       "</style>\n",
       "<table border=\"1\" class=\"dataframe\">\n",
       "  <thead>\n",
       "    <tr style=\"text-align: right;\">\n",
       "      <th>Status</th>\n",
       "      <th>Lost</th>\n",
       "      <th>Won</th>\n",
       "    </tr>\n",
       "    <tr>\n",
       "      <th>Dealer Name</th>\n",
       "      <th></th>\n",
       "      <th></th>\n",
       "    </tr>\n",
       "  </thead>\n",
       "  <tbody>\n",
       "    <tr>\n",
       "      <th>ITP</th>\n",
       "      <td>1.000000</td>\n",
       "      <td>0.000000</td>\n",
       "    </tr>\n",
       "    <tr>\n",
       "      <th>OXXO</th>\n",
       "      <td>0.800000</td>\n",
       "      <td>0.200000</td>\n",
       "    </tr>\n",
       "    <tr>\n",
       "      <th>Pearlson</th>\n",
       "      <td>0.733333</td>\n",
       "      <td>0.266667</td>\n",
       "    </tr>\n",
       "    <tr>\n",
       "      <th>Rajtechnis</th>\n",
       "      <td>0.933333</td>\n",
       "      <td>0.066667</td>\n",
       "    </tr>\n",
       "    <tr>\n",
       "      <th>Sunbird</th>\n",
       "      <td>0.727273</td>\n",
       "      <td>0.272727</td>\n",
       "    </tr>\n",
       "    <tr>\n",
       "      <th>Windoors</th>\n",
       "      <td>0.866667</td>\n",
       "      <td>0.133333</td>\n",
       "    </tr>\n",
       "    <tr>\n",
       "      <th>Winfratech</th>\n",
       "      <td>0.900000</td>\n",
       "      <td>0.100000</td>\n",
       "    </tr>\n",
       "  </tbody>\n",
       "</table>\n",
       "</div>"
      ],
      "text/plain": [
       "Status           Lost       Won\n",
       "Dealer Name                    \n",
       "ITP          1.000000  0.000000\n",
       "OXXO         0.800000  0.200000\n",
       "Pearlson     0.733333  0.266667\n",
       "Rajtechnis   0.933333  0.066667\n",
       "Sunbird      0.727273  0.272727\n",
       "Windoors     0.866667  0.133333\n",
       "Winfratech   0.900000  0.100000"
      ]
     },
     "execution_count": 59,
     "metadata": {},
     "output_type": "execute_result"
    }
   ],
   "source": [
    "CONVERSION_RATE"
   ]
  },
  {
   "cell_type": "markdown",
   "metadata": {},
   "source": [
    "Here Sunbird, OXXO, Pearlson Clearly comes under Top Performer\n",
    "\n",
    "Windoors have good Order value and conversion rate is 1% below the average so we can consider it as a good performer\n",
    "\n",
    "Winfratech,Rajtechnis,ITP these DEALERS are the UNDER PERFORMERS"
   ]
  },
  {
   "cell_type": "code",
   "execution_count": null,
   "metadata": {},
   "outputs": [],
   "source": []
  }
 ],
 "metadata": {
  "kernelspec": {
   "display_name": "Python 3",
   "language": "python",
   "name": "python3"
  },
  "language_info": {
   "codemirror_mode": {
    "name": "ipython",
    "version": 3
   },
   "file_extension": ".py",
   "mimetype": "text/x-python",
   "name": "python",
   "nbconvert_exporter": "python",
   "pygments_lexer": "ipython3",
   "version": "3.7.3"
  }
 },
 "nbformat": 4,
 "nbformat_minor": 2
}
